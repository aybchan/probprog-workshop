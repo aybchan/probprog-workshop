{
 "cells": [
  {
   "cell_type": "markdown",
   "metadata": {},
   "source": [
    "# 8. PyMC3 resources\n",
    "\n",
    "## Tutorials\n",
    "\n",
    "https://docs.pymc.io/nb_tutorials/index.html\n",
    "\n",
    "## Examples\n",
    "\n",
    "https://docs.pymc.io/nb_examples/index.html\n",
    "\n",
    "## Plots\n",
    "\n",
    "https://arviz-devs.github.io/arviz/examples/index.html"
   ]
  }
 ],
 "metadata": {
  "kernelspec": {
   "display_name": "Python 3",
   "language": "python",
   "name": "python3"
  },
  "language_info": {
   "codemirror_mode": {
    "name": "ipython",
    "version": 3
   },
   "file_extension": ".py",
   "mimetype": "text/x-python",
   "name": "python",
   "nbconvert_exporter": "python",
   "pygments_lexer": "ipython3",
   "version": "3.7.3"
  }
 },
 "nbformat": 4,
 "nbformat_minor": 4
}

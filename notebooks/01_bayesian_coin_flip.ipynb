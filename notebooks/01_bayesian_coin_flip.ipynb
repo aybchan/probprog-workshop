{
 "cells": [
  {
   "cell_type": "markdown",
   "metadata": {},
   "source": [
    "# 1. Bayesian coin flip"
   ]
  },
  {
   "cell_type": "code",
   "execution_count": null,
   "metadata": {},
   "outputs": [],
   "source": [
    "import numpy as np\n",
    "from scipy import stats\n",
    "from matplotlib import pyplot as plt\n",
    "plt.style.use('fivethirtyeight')\n",
    "\n",
    "np.random.seed(2020)"
   ]
  },
  {
   "cell_type": "markdown",
   "metadata": {},
   "source": [
    "## A: Define a prior distribution\n",
    "\n",
    "The prior distribution encapsulates our beliefs (before observing data) "
   ]
  },
  {
   "cell_type": "code",
   "execution_count": null,
   "metadata": {},
   "outputs": [],
   "source": [
    "prior_x = np.linspace(0,1,11)\n",
    "\n",
    "alpha,beta = 2,2 # change these values and plot to get a different prior\n",
    "prior_y = stats.beta(alpha,beta).pdf(prior_x)\n",
    "prior_y = prior_y/prior_y.sum()"
   ]
  },
  {
   "cell_type": "code",
   "execution_count": null,
   "metadata": {},
   "outputs": [],
   "source": [
    "# plot the prior\n",
    "fig = plt.figure(figsize=(12,4))\n",
    "ax  = fig.add_subplot(1,1,1)\n",
    "\n",
    "for x_,y_ in zip(prior_x, prior_y):\n",
    "    _ = ax.plot([x_,x_],[0,y_],c='C0',alpha=0.8)\n",
    "    _ = ax.plot(x_,y_,'o',ms=10,c='C0',alpha=0.8)\n",
    "ax.set_title('$P(\\Theta)$: prior distribution')\n",
    "\n",
    "ax.set_xticks(prior_x)\n",
    "ax.set_xticklabels(['{0:.2f}'.format(x_) for x_ in prior_x[:]])\n",
    "ax.set_xlabel('Value of $p$')\n",
    "\n",
    "ax.set_yticks(prior_y)\n",
    "ax.set_yticklabels([None]+['{0:.2f}%'.format(y_*100) for y_ in prior_y[1:6]])\n",
    "\n",
    "ax.set_ylim([None,0.17])\n",
    "ax.set_ylabel('P($\\Theta=p$)')\n",
    "plt.tight_layout()"
   ]
  },
  {
   "cell_type": "markdown",
   "metadata": {},
   "source": [
    "## B: Gather observations: Flip the coin"
   ]
  },
  {
   "cell_type": "code",
   "execution_count": null,
   "metadata": {},
   "outputs": [],
   "source": [
    "np.random.seed(1)\n",
    "\n",
    "# the true value of p, not revealed to us\n",
    "p_real = np.random.uniform(0.15,0.85,1)\n",
    "\n",
    "# number of observations to make\n",
    "n_flips = 15\n",
    "\n",
    "# 1=heads, 0=tails\n",
    "flips = (np.random.uniform(0,1,n_flips) < p_real)*1\n",
    "flips"
   ]
  },
  {
   "cell_type": "markdown",
   "metadata": {},
   "source": [
    "### Bar chart of observations so far"
   ]
  },
  {
   "cell_type": "code",
   "execution_count": null,
   "metadata": {},
   "outputs": [],
   "source": [
    "fig = plt.figure(figsize=(10,5))\n",
    "ax  = fig.add_subplot(1,1,1)\n",
    "d,_,_ = ax.hist(flips,bins=2,width=0.4,color='C1')\n",
    "ax.set_xticks([0.2,0.7])\n",
    "ax.set_xticklabels(['Heads','Tails'])\n",
    "ax.set_yticks(np.arange(1,np.max(d)))\n",
    "ax.set_yticklabels(np.arange(1,np.max(d)))"
   ]
  },
  {
   "cell_type": "markdown",
   "metadata": {},
   "source": [
    "## C:  Define likelihood function"
   ]
  },
  {
   "cell_type": "code",
   "execution_count": null,
   "metadata": {},
   "outputs": [],
   "source": [
    "likelihood = lambda data,p:  p**(data.sum()) * (1-p)**(len(data)-data.sum())"
   ]
  },
  {
   "cell_type": "markdown",
   "metadata": {},
   "source": [
    "#### Plot likelihood after 2 flips"
   ]
  },
  {
   "cell_type": "code",
   "execution_count": null,
   "metadata": {},
   "outputs": [],
   "source": [
    "fig = plt.figure(figsize=(12,4))\n",
    "ax  = fig.add_subplot(1,1,1)\n",
    "nl = 2\n",
    "\n",
    "l = [likelihood(flips[:nl],p_) for p_ in prior_x]\n",
    "for x_,y_ in zip(prior_x, l):\n",
    "    _ = ax.plot([x_,x_],[0,y_],c='C0',alpha=0.8)\n",
    "    _ = ax.plot(x_,y_,'o',ms=10,c='C0',alpha=0.8)\n",
    "ax.set_title('$P(Data|\\Theta)$: likelihood function after {} flips: {}'.format(nl,str(flips[:nl])))\n",
    "\n",
    "ax.set_xticks(prior_x)\n",
    "ax.set_xticklabels(['{0:.2f}'.format(x_) for x_ in prior_x[:]])\n",
    "# ax.set_xlabel('Value of $p$')\n",
    "\n",
    "# ax.set_yticks(prior_y)\n",
    "# ax.set_yticklabels([None]+['{0:.2f}%'.format(y_*100) for y_ in prior_y[1:6]])\n",
    "\n",
    "ax.set_ylabel('$P($ $H$ $T$ $T$ $|$ $\\Theta=p)$')\n",
    "ax.set_xlabel('Value of $p$')\n",
    "plt.tight_layout()"
   ]
  },
  {
   "cell_type": "markdown",
   "metadata": {},
   "source": [
    "# D: Plot the posterior after each flip\n",
    "\n",
    "in the bayesian framework we combine the prior and likelihood to get the posterior\n",
    "\n",
    "demonstrates how posterior beliefs change over time\n",
    "\n",
    "do we become more or less certain?"
   ]
  },
  {
   "cell_type": "code",
   "execution_count": null,
   "metadata": {},
   "outputs": [],
   "source": [
    "translate = lambda x: 'H' if x else 'T'"
   ]
  },
  {
   "cell_type": "code",
   "execution_count": null,
   "metadata": {},
   "outputs": [],
   "source": [
    "# 1=heads, 0=tails\n",
    "likelihood = lambda theta,results:  theta**len(np.where(results==1)[0]) * (1-theta)**len(np.where(results==0)[0])\n",
    "x = np.linspace(0,1,1000)\n",
    "\n",
    "cols = 2\n",
    "\n",
    "for f,flip in enumerate(flips):\n",
    "    if f>0:\n",
    "        fig = plt.figure(figsize=(14,3))\n",
    "\n",
    "        ax  = fig.add_subplot(1,2,1)\n",
    "        _   = ax.bar(['tails','heads'],height=[np.where(flips[:f]==0)[0].shape[0],\n",
    "                                               np.where(flips[:f]==1)[0].shape[0]],\n",
    "                     color='C1',width=0.9)\n",
    "        ax.set_xticks([0,1])\n",
    "        ax.set_xticklabels(['Tails','Heads'])\n",
    "\n",
    "        ax  = fig.add_subplot(1,2,2)\n",
    "        evidence = np.sum([(likelihood(theta,flips[:f]) * theta) for theta in x])\n",
    "        posterior = lambda theta: (likelihood(theta,flips[:f]) * theta)/evidence\n",
    "        post = [posterior(theta) for theta in x]\n",
    "        ax.plot(x,post,label='posterior')\n",
    "        plt.fill_between(x, 0, [posterior(theta) for theta in x], color=\"#348ABD\", alpha=0.4)\n",
    "\n",
    "        ax.plot(flips[:f].sum()/f,np.max(post)*0.2,'o',ms=10,label='Maximum likelihood')\n",
    "\n",
    "        ax.set_ylim([None,np.max(post)*1.1])\n",
    "        ax.legend(loc='upper left')\n",
    "        flip_str = ','.join(list(map(translate,flips[:f])))\n",
    "        ax.set_title(flip_str)\n",
    "        fig.suptitle('Posterior after {} flips'.format(f))\n",
    "\n",
    "    plt.tight_layout()\n"
   ]
  },
  {
   "cell_type": "markdown",
   "metadata": {},
   "source": [
    "## E: How does the posterior compare with the real value of p?"
   ]
  },
  {
   "cell_type": "code",
   "execution_count": null,
   "metadata": {},
   "outputs": [],
   "source": [
    "fig = plt.figure(figsize=(14,3))\n",
    "\n",
    "ax  = fig.add_subplot(1,2,1)\n",
    "_   = ax.bar(['tails','heads'],height=[np.where(flips[:f]==0)[0].shape[0],\n",
    "                                       np.where(flips[:f]==1)[0].shape[0]],\n",
    "             color='C1',width=0.9)\n",
    "ax.set_xticks([0,1])\n",
    "ax.set_xticklabels(['Tails','Heads'])\n",
    "ax  = fig.add_subplot(1,2,2)\n",
    "evidence = np.sum([(likelihood(theta,flips[:f]) * theta) for theta in x])\n",
    "posterior = lambda theta: (likelihood(theta,flips[:f]) * theta)/evidence\n",
    "post = [posterior(theta) for theta in x]\n",
    "ax.plot(x,post,label='posterior')\n",
    "plt.fill_between(x, 0, [posterior(theta) for theta in x], color=\"#348ABD\", alpha=0.4)\n",
    "\n",
    "ax.plot(flips[:f].sum()/f,np.max(post)*0.05,'o',ms=10,label='Maximum likelihood')\n",
    "ax.plot(p_real,np.max(post)*0.05,'o',ms=10,label='True p')\n",
    "ax.set_ylim([None,np.max(post)*1.1])\n",
    "ax.legend(loc='upper left')\n",
    "_ = fig.suptitle('Posterior after {} flips'.format(f))\n",
    "flip_str = ','.join(list(map(translate,flips[:f])))\n",
    "_ = ax.set_title(flip_str)\n"
   ]
  },
  {
   "cell_type": "markdown",
   "metadata": {},
   "source": [
    "## F:  Try with even more flips"
   ]
  },
  {
   "cell_type": "code",
   "execution_count": null,
   "metadata": {},
   "outputs": [],
   "source": [
    "# 1=heads, 0=tails\n",
    "likelihood = lambda theta,results:  theta**len(np.where(results==1)[0]) * (1-theta)**len(np.where(results==0)[0])\n",
    "x = np.linspace(0,1,1000)\n",
    "\n",
    "n_flips = 500\n",
    "cols = 2\n",
    "\n",
    "flips_2 = (np.random.uniform(0,1,n_flips) < p_real)*1\n",
    "\n",
    "for f,flip in enumerate([1, 2, 3, 4, 5,20,50,100,200,n_flips]):\n",
    "    fig = plt.figure(figsize=(14,3))\n",
    "    \n",
    "    ax  = fig.add_subplot(1,2,1)\n",
    "    _   = ax.bar(['heads','tails'],height=[np.where(flips_2[:flip]==0)[0].shape[0],\n",
    "                                           np.where(flips_2[:flip]==1)[0].shape[0]],\n",
    "                 color='C1',width=0.9)\n",
    "    ax.set_xticks([0,1])\n",
    "    ax.set_xticklabels(['Heads','Tails'])\n",
    "#     ax.set_yticks(np.arange(1,np.max(d)))\n",
    "#     ax.set_yticklabels(np.arange(1,np.max(d)))\n",
    "\n",
    "    ax  = fig.add_subplot(1,2,2)\n",
    "    evidence = np.sum([(likelihood(theta,flips_2[:flip]) * theta) for theta in x])\n",
    "    posterior = lambda theta: (likelihood(theta,flips_2[:flip]) * theta)/evidence\n",
    "    post = [posterior(theta) for theta in x]\n",
    "    ax.plot(x,post,label='posterior')\n",
    "    plt.fill_between(x, 0, [posterior(theta) for theta in x], color=\"#348ABD\", alpha=0.4)\n",
    "\n",
    "    ax.plot(flips_2[:flip].sum()/flip,np.max(post)*0.2,'o',ms=10,label='Maximum likelihood')\n",
    "#     ax.plot(coin_bias,np.max(post)*0.1,'o',ms=10,c='k')\n",
    "#    L = likelihood(np.linspace(0,1,100),flips[:flip])\n",
    "#    ax.plot(x,L/L.sum(),label='likelihood')\n",
    "    ax.set_ylim([None,np.max(post)*1.1])\n",
    "    ax.legend(loc='upper left')\n",
    "    fig.suptitle('Posterior after {} flips'.format(flip))\n",
    "plt.tight_layout()\n"
   ]
  },
  {
   "cell_type": "markdown",
   "metadata": {},
   "source": [
    "## G: How does the posterior compare to the true value of $p$ now?"
   ]
  },
  {
   "cell_type": "code",
   "execution_count": null,
   "metadata": {},
   "outputs": [],
   "source": [
    "fig = plt.figure(figsize=(14,3))\n",
    "\n",
    "ax  = fig.add_subplot(1,2,1)\n",
    "_   = ax.bar(['tails','heads'],height=[np.where(flips_2==0)[0].shape[0],\n",
    "                                       np.where(flips_2==1)[0].shape[0]],\n",
    "             color='C1',width=0.9)\n",
    "ax.set_xticks([0,1])\n",
    "ax.set_xticklabels(['Tails','Heads'])\n",
    "ax  = fig.add_subplot(1,2,2)\n",
    "\n",
    "evidence = np.sum([(likelihood(theta,flips_2) * theta) for theta in x])\n",
    "posterior = lambda theta: (likelihood(theta,flips_2) * theta)/evidence\n",
    "post = [posterior(theta) for theta in x]\n",
    "\n",
    "ax.plot(x,post,label='posterior')\n",
    "plt.fill_between(x, 0, [posterior(theta) for theta in x], color=\"#348ABD\", alpha=0.4)\n",
    "\n",
    "ax.plot(flips_2.sum()/len(flips_2),np.max(post)*0.05,'o',ms=10,label='Maximum likelihood')\n",
    "ax.plot(p_real,np.max(post)*0.05,'o',ms=10,label='True $p$')\n",
    "ax.set_ylim([None,np.max(post)*1.1])\n",
    "ax.legend(loc='upper left')\n",
    "_ = fig.suptitle('Posterior after {} flips'.format(len(flips_2)))\n",
    "flip_str = ','.join(list(map(translate,flips_2)))\n",
    "\n"
   ]
  }
 ],
 "metadata": {
  "kernelspec": {
   "display_name": "Python 3",
   "language": "python",
   "name": "python3"
  },
  "language_info": {
   "codemirror_mode": {
    "name": "ipython",
    "version": 3
   },
   "file_extension": ".py",
   "mimetype": "text/x-python",
   "name": "python",
   "nbconvert_exporter": "python",
   "pygments_lexer": "ipython3",
   "version": "3.7.3"
  }
 },
 "nbformat": 4,
 "nbformat_minor": 4
}

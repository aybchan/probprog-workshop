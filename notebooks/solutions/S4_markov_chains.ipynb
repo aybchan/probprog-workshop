{
 "cells": [
  {
   "cell_type": "markdown",
   "metadata": {},
   "source": [
    "# S4. Markov chains and their stationary distributions\n",
    "\n",
    "Interactive demo:\n",
    "\n",
    "http://setosa.io/markov/index.html#%7B%22tm%22%3A%5B%5B0.1%2C0.1%2C0.8%5D%2C%5B0.5%2C0.3%2C0.2%5D%2C%5B0.7%2C0.1%2C0.2%5D%5D%7D\n"
   ]
  },
  {
   "cell_type": "markdown",
   "metadata": {},
   "source": [
    "## Exercise 1: Define a transition matrix, `M`"
   ]
  },
  {
   "cell_type": "code",
   "execution_count": 1,
   "metadata": {},
   "outputs": [
    {
     "name": "stdout",
     "output_type": "stream",
     "text": [
      "Transition matrix:\n",
      "[[0.1, 0.1, 0.8], [0.5, 0.3, 0.2], [0.7, 0.1, 0.2]]\n",
      "\n",
      "Initial state probability\n",
      "A: 17.6%  B: 47.0%  C: 35.3%\n"
     ]
    }
   ],
   "source": [
    "import numpy as np\n",
    "\n",
    "# markov transition matrix\n",
    "M = np.array([[0.1,0.1,0.8],\n",
    "              [0.5,0.3,0.2],\n",
    "              [0.7,0.1,0.2]])\n",
    "\n",
    "# each state (row) should have a value (col) for each state\n",
    "assert M.shape[0]==M.shape[1], 'M should be a square matrix'\n",
    "\n",
    "# make sure each row is a valid probability distribution\n",
    "# (i.e. sums to 1)\n",
    "M = M/np.sum(M,axis=1)[np.newaxis].T\n",
    "assert np.allclose(np.sum(M,axis=1),np.ones(len(M)))\n",
    "\n",
    "print('Transition matrix:')\n",
    "print([list(i) for i in M])\n",
    "\n",
    "# init location\n",
    "x = np.random.uniform(0,1,3)\n",
    "x = x/np.array(x).sum()\n",
    "\n",
    "print('Initial state probability')\n",
    "print('A: {0:.1f}%  B: {1:.1f}%  C: {2:.1f}%'.format(*x*100))"
   ]
  },
  {
   "cell_type": "code",
   "execution_count": 2,
   "metadata": {},
   "outputs": [],
   "source": [
    "def run_to_convergence(init,transition_matrix):\n",
    "    converged = False\n",
    "    n = 0\n",
    "    x = init\n",
    "    \n",
    "    print('\\t\\tAmount of time spent in state:')\n",
    "    print('\\t\\t\\tA\\tB\\tC')\n",
    "    while not converged:\n",
    "        for i in range(5):\n",
    "            x = x @ transition_matrix\n",
    "            print('After {0: 4} transitions:\\t{1:.1f}%\\t{2:.1f}%\\t{3:.1f}%'\n",
    "                  .format(n+i,*x*100),end='\\t')\n",
    "            if np.allclose(x,x @ transition_matrix):\n",
    "                print('converged!',end='')\n",
    "                converged = True\n",
    "            print()\n",
    "        n += 5"
   ]
  },
  {
   "cell_type": "markdown",
   "metadata": {},
   "source": [
    "Theory: Applying $x := x^\\top M$ repeatedly will lead to the stationary distribution."
   ]
  },
  {
   "cell_type": "code",
   "execution_count": 3,
   "metadata": {},
   "outputs": [
    {
     "name": "stdout",
     "output_type": "stream",
     "text": [
      "\t\tAmount of time spent in state:\n",
      "\t\t\tA\tB\tC\n",
      "After    0 transitions:\t50.0%\t19.4%\t30.6%\t\n",
      "After    1 transitions:\t36.1%\t13.9%\t50.0%\t\n",
      "After    2 transitions:\t45.6%\t12.8%\t41.7%\t\n",
      "After    3 transitions:\t40.1%\t12.6%\t47.3%\t\n",
      "After    4 transitions:\t43.4%\t12.5%\t44.1%\t\n",
      "After    5 transitions:\t41.4%\t12.5%\t46.1%\t\n",
      "After    6 transitions:\t42.6%\t12.5%\t44.9%\t\n",
      "After    7 transitions:\t41.9%\t12.5%\t45.6%\t\n",
      "After    8 transitions:\t42.3%\t12.5%\t45.2%\t\n",
      "After    9 transitions:\t42.1%\t12.5%\t45.4%\t\n",
      "After   10 transitions:\t42.2%\t12.5%\t45.3%\t\n",
      "After   11 transitions:\t42.2%\t12.5%\t45.3%\t\n",
      "After   12 transitions:\t42.2%\t12.5%\t45.3%\t\n",
      "After   13 transitions:\t42.2%\t12.5%\t45.3%\t\n",
      "After   14 transitions:\t42.2%\t12.5%\t45.3%\t\n",
      "After   15 transitions:\t42.2%\t12.5%\t45.3%\t\n",
      "After   16 transitions:\t42.2%\t12.5%\t45.3%\t\n",
      "After   17 transitions:\t42.2%\t12.5%\t45.3%\t\n",
      "After   18 transitions:\t42.2%\t12.5%\t45.3%\t\n",
      "After   19 transitions:\t42.2%\t12.5%\t45.3%\t\n",
      "After   20 transitions:\t42.2%\t12.5%\t45.3%\t\n",
      "After   21 transitions:\t42.2%\t12.5%\t45.3%\tconverged!\n",
      "After   22 transitions:\t42.2%\t12.5%\t45.3%\tconverged!\n",
      "After   23 transitions:\t42.2%\t12.5%\t45.3%\tconverged!\n",
      "After   24 transitions:\t42.2%\t12.5%\t45.3%\tconverged!\n"
     ]
    }
   ],
   "source": [
    "run_to_convergence(init=x,\n",
    "                   transition_matrix=M)"
   ]
  },
  {
   "cell_type": "markdown",
   "metadata": {},
   "source": [
    "If the proportion of time spent in each of the state converges, we say that the Markov chain has a stationary distribution"
   ]
  },
  {
   "cell_type": "markdown",
   "metadata": {},
   "source": [
    "## Exercise 2: Change the initial state probability\n",
    "\n",
    "Does it still converge to the __same__ stationary distribution as above?"
   ]
  },
  {
   "cell_type": "code",
   "execution_count": 4,
   "metadata": {},
   "outputs": [
    {
     "name": "stdout",
     "output_type": "stream",
     "text": [
      "\n",
      "Initial state probability\n",
      "A: 17.6%  B: 47.0%  C: 35.3%\n"
     ]
    }
   ],
   "source": [
    "new_x = [2,3,4]\n",
    "\n",
    "assert len(new_x) == M.shape[0]\n",
    "new_x = new_x/np.array(new_x).sum()\n",
    "print('\\nInitial state probability')\n",
    "print('A: {0:.1f}%  B: {1:.1f}%  C: {2:.1f}%'.format(*x*100))"
   ]
  },
  {
   "cell_type": "code",
   "execution_count": 5,
   "metadata": {},
   "outputs": [
    {
     "name": "stdout",
     "output_type": "stream",
     "text": [
      "\t\tAmount of time spent in state:\n",
      "\t\t\tA\tB\tC\n",
      "After    0 transitions:\t50.0%\t16.7%\t33.3%\t\n",
      "After    1 transitions:\t36.7%\t13.3%\t50.0%\t\n",
      "After    2 transitions:\t45.3%\t12.7%\t42.0%\t\n",
      "After    3 transitions:\t40.3%\t12.5%\t47.2%\t\n",
      "After    4 transitions:\t43.3%\t12.5%\t44.2%\t\n",
      "After    5 transitions:\t41.5%\t12.5%\t46.0%\t\n",
      "After    6 transitions:\t42.6%\t12.5%\t44.9%\t\n",
      "After    7 transitions:\t41.9%\t12.5%\t45.6%\t\n",
      "After    8 transitions:\t42.3%\t12.5%\t45.2%\t\n",
      "After    9 transitions:\t42.1%\t12.5%\t45.4%\t\n",
      "After   10 transitions:\t42.2%\t12.5%\t45.3%\t\n",
      "After   11 transitions:\t42.2%\t12.5%\t45.3%\t\n",
      "After   12 transitions:\t42.2%\t12.5%\t45.3%\t\n",
      "After   13 transitions:\t42.2%\t12.5%\t45.3%\t\n",
      "After   14 transitions:\t42.2%\t12.5%\t45.3%\t\n",
      "After   15 transitions:\t42.2%\t12.5%\t45.3%\t\n",
      "After   16 transitions:\t42.2%\t12.5%\t45.3%\t\n",
      "After   17 transitions:\t42.2%\t12.5%\t45.3%\t\n",
      "After   18 transitions:\t42.2%\t12.5%\t45.3%\t\n",
      "After   19 transitions:\t42.2%\t12.5%\t45.3%\t\n",
      "After   20 transitions:\t42.2%\t12.5%\t45.3%\t\n",
      "After   21 transitions:\t42.2%\t12.5%\t45.3%\tconverged!\n",
      "After   22 transitions:\t42.2%\t12.5%\t45.3%\tconverged!\n",
      "After   23 transitions:\t42.2%\t12.5%\t45.3%\tconverged!\n",
      "After   24 transitions:\t42.2%\t12.5%\t45.3%\tconverged!\n"
     ]
    }
   ],
   "source": [
    "run_to_convergence(init=new_x,\n",
    "                   transition_matrix=M)"
   ]
  },
  {
   "cell_type": "markdown",
   "metadata": {},
   "source": [
    "## Exercise 3: Define your own transition matrix"
   ]
  },
  {
   "cell_type": "code",
   "execution_count": 6,
   "metadata": {},
   "outputs": [
    {
     "name": "stdout",
     "output_type": "stream",
     "text": [
      "Your Markov chain transition matrix:\n",
      "[[0.1, 0.2, 0.3, 0.4], [0.037383177570093455, 0.9345794392523364, 0.018691588785046728, 0.009345794392523364], [0.3333333333333333, 0.16666666666666666, 0.3333333333333333, 0.16666666666666666], [0.4, 0.3, 0.2, 0.1]]\n",
      "\n",
      "Initial state probability\n",
      "A: 5.4%  B: 86.5%  C: 2.7%\n",
      "\t\tAmount of time spent in state:\n",
      "\t\t\tA\tB\tC\n",
      "After    0 transitions:\t6.8%\t84.0%\t5.2%\t\n",
      "After    1 transitions:\t7.1%\t81.9%\t6.2%\t\n",
      "After    2 transitions:\t7.7%\t80.4%\t6.7%\t\n",
      "After    3 transitions:\t8.1%\t79.4%\t7.1%\t\n",
      "After    4 transitions:\t8.3%\t78.6%\t7.4%\t\n",
      "After    5 transitions:\t8.5%\t78.1%\t7.6%\t\n",
      "After    6 transitions:\t8.6%\t77.7%\t7.7%\t\n",
      "After    7 transitions:\t8.7%\t77.4%\t7.8%\t\n",
      "After    8 transitions:\t8.8%\t77.2%\t7.9%\t\n",
      "After    9 transitions:\t8.8%\t77.1%\t7.9%\t\n",
      "After   10 transitions:\t8.9%\t77.0%\t8.0%\t\n",
      "After   11 transitions:\t8.9%\t76.9%\t8.0%\t\n",
      "After   12 transitions:\t8.9%\t76.8%\t8.0%\t\n",
      "After   13 transitions:\t8.9%\t76.8%\t8.0%\t\n",
      "After   14 transitions:\t8.9%\t76.8%\t8.0%\t\n",
      "After   15 transitions:\t8.9%\t76.8%\t8.0%\t\n",
      "After   16 transitions:\t8.9%\t76.7%\t8.1%\t\n",
      "After   17 transitions:\t9.0%\t76.7%\t8.1%\t\n",
      "After   18 transitions:\t9.0%\t76.7%\t8.1%\t\n",
      "After   19 transitions:\t9.0%\t76.7%\t8.1%\t\n",
      "After   20 transitions:\t9.0%\t76.7%\t8.1%\t\n",
      "After   21 transitions:\t9.0%\t76.7%\t8.1%\t\n",
      "After   22 transitions:\t9.0%\t76.7%\t8.1%\t\n",
      "After   23 transitions:\t9.0%\t76.7%\t8.1%\t\n",
      "After   24 transitions:\t9.0%\t76.7%\t8.1%\t\n",
      "After   25 transitions:\t9.0%\t76.7%\t8.1%\t\n",
      "After   26 transitions:\t9.0%\t76.7%\t8.1%\t\n",
      "After   27 transitions:\t9.0%\t76.7%\t8.1%\t\n",
      "After   28 transitions:\t9.0%\t76.7%\t8.1%\tconverged!\n",
      "After   29 transitions:\t9.0%\t76.7%\t8.1%\tconverged!\n"
     ]
    }
   ],
   "source": [
    "# markov transition matrix\n",
    "M = np.array([[1,2,3,4],\n",
    "              [4,100,2,1],\n",
    "              [2,1,2,1],\n",
    "              [4,3,2,1]])\n",
    "\n",
    "# each state (row) should have a value (col) for each state\n",
    "assert M.shape[0]==M.shape[1], 'M should be a square matrix'\n",
    "\n",
    "# make sure each row is a valid probability distribution\n",
    "# (i.e. sums to 1)\n",
    "M = M/np.sum(M,axis=1)[np.newaxis].T\n",
    "assert np.allclose(np.sum(M,axis=1),np.ones(len(M)))\n",
    "\n",
    "\n",
    "print('Your Markov chain transition matrix:')\n",
    "print([list(i) for i in M])\n",
    "\n",
    "# init location\n",
    "x = np.array([2,32,1,2])\n",
    "x = x/x.sum()\n",
    "\n",
    "print('\\nInitial state probability')\n",
    "print('A: {0:.1f}%  B: {1:.1f}%  C: {2:.1f}%'.format(*x*100))\n",
    "\n",
    "run_to_convergence(init=x,\n",
    "                   transition_matrix=M)"
   ]
  },
  {
   "cell_type": "markdown",
   "metadata": {},
   "source": [
    "Copy and paste your printed transition matrix into the interactive demo:\n",
    "\n",
    "http://setosa.io/markov/index.html\n",
    "\n",
    "Does the demo reflect the converged stationary distirbution?"
   ]
  }
 ],
 "metadata": {
  "kernelspec": {
   "display_name": "Python 3",
   "language": "python",
   "name": "python3"
  },
  "language_info": {
   "codemirror_mode": {
    "name": "ipython",
    "version": 3
   },
   "file_extension": ".py",
   "mimetype": "text/x-python",
   "name": "python",
   "nbconvert_exporter": "python",
   "pygments_lexer": "ipython3",
   "version": "3.7.3"
  }
 },
 "nbformat": 4,
 "nbformat_minor": 4
}

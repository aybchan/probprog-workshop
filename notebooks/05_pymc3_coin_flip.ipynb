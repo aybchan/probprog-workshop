{
 "cells": [
  {
   "cell_type": "markdown",
   "metadata": {},
   "source": [
    "# 5. PyMC3: Coin flipping"
   ]
  },
  {
   "cell_type": "code",
   "execution_count": null,
   "metadata": {},
   "outputs": [],
   "source": [
    "import numpy as np\n",
    "import pymc3 as pm\n",
    "import theano\n",
    "from scipy import stats\n",
    "\n",
    "import arviz as az\n",
    "from matplotlib import pyplot as plt\n",
    "%matplotlib inline\n",
    "plt.style.use('fivethirtyeight')\n",
    "az.style.use(\"arviz-darkgrid\")\n",
    "\n",
    "seed = 2020\n",
    "np.random.seed(seed)"
   ]
  },
  {
   "cell_type": "markdown",
   "metadata": {},
   "source": [
    "## Flip coin"
   ]
  },
  {
   "cell_type": "code",
   "execution_count": null,
   "metadata": {},
   "outputs": [],
   "source": [
    "\"\"\"\n",
    "i flip the coin and get three heads:\n",
    "         [H,H,H]    \n",
    "\n",
    "\"\"\"    \n",
    "data_1 = [1,1,1]"
   ]
  },
  {
   "cell_type": "markdown",
   "metadata": {},
   "source": [
    "## Choosing a prior distribution\n",
    "\n",
    "Express beliefs about θ with a Beta distribution prior\n",
    "\n",
    "https://en.wikipedia.org/wiki/Beta_distribution"
   ]
  },
  {
   "cell_type": "code",
   "execution_count": null,
   "metadata": {},
   "outputs": [],
   "source": [
    "alpha,beta = 2,2 # change values of alpha, beta to get different shape of prior distribution\n",
    "x_range = np.linspace(0,1,250) # the beta distribution has a support in the range [0,1]\n",
    "β = stats.beta(alpha,beta).pdf(x_range)\n",
    "plt.plot(x_range,β)\n",
    "plt.xlabel('Values of θ')\n",
    "plt.ylabel('β(x=θ;{},{})'.format(alpha,beta))\n",
    "plt.title('β({},{})'.format(alpha,beta))"
   ]
  },
  {
   "cell_type": "markdown",
   "metadata": {},
   "source": [
    "## Exercise 1: Define our Bayesian model\n"
   ]
  },
  {
   "cell_type": "code",
   "execution_count": null,
   "metadata": {},
   "outputs": [],
   "source": [
    "\"\"\"\n",
    "define model \n",
    "\n",
    "\"\"\"\n",
    "model = pm.Model() # init model\n",
    "obs   = theano.shared(np.array(data_1)) # use a theano tensor for observations\n",
    "\n",
    "with model:\n",
    "    # prior  ::  P(θ)\n",
    "    # prior is the Beta(2,2) plotted above\n",
    "    θ = pm.Beta('θ',alpha=alpha,beta=beta)\n",
    "    \n",
    "    # likelihood  ::  P(Data|θ)\n",
    "    # note that we are passing the observations to the model here\n",
    "    y = pm.Bernoulli('y',p=θ,observed=obs)"
   ]
  },
  {
   "cell_type": "markdown",
   "metadata": {},
   "source": [
    "### PyMC3 follows statistical notation for simple model definition"
   ]
  },
  {
   "cell_type": "code",
   "execution_count": null,
   "metadata": {},
   "outputs": [],
   "source": [
    "θ"
   ]
  },
  {
   "cell_type": "code",
   "execution_count": null,
   "metadata": {},
   "outputs": [],
   "source": [
    "y"
   ]
  },
  {
   "cell_type": "markdown",
   "metadata": {},
   "source": [
    "## Run sampler to approximate the posterior"
   ]
  },
  {
   "cell_type": "code",
   "execution_count": null,
   "metadata": {},
   "outputs": [],
   "source": [
    "with model:\n",
    "    # run MCMC sampler to get samples from posterior\n",
    "    # (this is the magic inference button 🚨)\n",
    "    n_samples = 5000\n",
    "    trace_1 = pm.sample(n_samples,random_seed=seed)"
   ]
  },
  {
   "cell_type": "markdown",
   "metadata": {},
   "source": [
    "## Plot samples"
   ]
  },
  {
   "cell_type": "code",
   "execution_count": null,
   "metadata": {},
   "outputs": [],
   "source": [
    "az.plot_trace(trace_1)"
   ]
  },
  {
   "cell_type": "code",
   "execution_count": null,
   "metadata": {},
   "outputs": [],
   "source": [
    "az.plot_posterior(trace_1)"
   ]
  },
  {
   "cell_type": "markdown",
   "metadata": {},
   "source": [
    "My 94% credibility interval is still quite wide. I need more data to reduce this certainty"
   ]
  },
  {
   "cell_type": "markdown",
   "metadata": {},
   "source": [
    "## Exercise 2: More data arrives\n",
    "\n",
    "We flip the coin three more times.\n",
    "\n",
    "Once again I get three heads"
   ]
  },
  {
   "cell_type": "code",
   "execution_count": null,
   "metadata": {},
   "outputs": [],
   "source": [
    "\"\"\"\n",
    "i roll three more heads:\n",
    "        [H,H,H] + [H,H,H]    \n",
    "\n",
    "\"\"\"    \n",
    "data_2 = data_1 + [ ??? ]\n",
    "data_2"
   ]
  },
  {
   "cell_type": "code",
   "execution_count": null,
   "metadata": {},
   "outputs": [],
   "source": [
    "# update `obs` with the new observations\n",
    "obs.set_value(data_2)\n",
    "\n",
    "# run sampler again, no need to redefine model\n",
    "with model:\n",
    "    # run MCMC sampler to get samples from posterior\n",
    "    # (this is the magic inference button 🚨)\n",
    "    n_samples = 5000\n",
    "    trace_2 = pm.sample(n_samples,random_seed=seed)"
   ]
  },
  {
   "cell_type": "code",
   "execution_count": null,
   "metadata": {},
   "outputs": [],
   "source": [
    "# plot the trace from the above sampling\n",
    "az.plot_posterior(trace_2)"
   ]
  },
  {
   "cell_type": "markdown",
   "metadata": {},
   "source": [
    "## Exercise 3: Even more data arrives\n",
    "\n",
    "choose what the next few flips look like and see how our posterior beliefs adapt\n",
    "\n",
    "you can even use a real coin\n",
    "\n",
    "(use 0 for tails, 1 for heads)"
   ]
  },
  {
   "cell_type": "code",
   "execution_count": null,
   "metadata": {},
   "outputs": [],
   "source": [
    "\"\"\"\n",
    "i roll the coin a few more times:\n",
    "        [H,H,H] + [H,H,H] + [?,?,?,?,...]\n",
    "\n",
    "\"\"\"    \n",
    "data_3 = data_2 + [ ???? ]\n",
    "data_3"
   ]
  },
  {
   "cell_type": "code",
   "execution_count": null,
   "metadata": {},
   "outputs": [],
   "source": [
    "# update `obs` with the new observations above\n",
    "obs.set_value(?)\n",
    "\n",
    "# run sampler again\n",
    "with ?:\n",
    "    # run MCMC sampler to get samples from posterior\n",
    "    # (this is the magic inference button 🚨)\n",
    "    n_samples = ?\n",
    "    trace_3 = pm.sample(n_samples,random_seed=seed)"
   ]
  },
  {
   "cell_type": "code",
   "execution_count": null,
   "metadata": {},
   "outputs": [],
   "source": [
    "# compare this plot with the previous ones\n",
    "# have we become more, or less, uncertain? why?\n",
    "az.plot_posterior(?)"
   ]
  }
 ],
 "metadata": {
  "kernelspec": {
   "display_name": "Python 3",
   "language": "python",
   "name": "python3"
  },
  "language_info": {
   "codemirror_mode": {
    "name": "ipython",
    "version": 3
   },
   "file_extension": ".py",
   "mimetype": "text/x-python",
   "name": "python",
   "nbconvert_exporter": "python",
   "pygments_lexer": "ipython3",
   "version": "3.7.3"
  }
 },
 "nbformat": 4,
 "nbformat_minor": 4
}
